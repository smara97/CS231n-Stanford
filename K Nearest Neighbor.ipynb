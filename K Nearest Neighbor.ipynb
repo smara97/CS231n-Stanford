{
 "cells": [
  {
   "cell_type": "code",
   "execution_count": 1,
   "metadata": {},
   "outputs": [],
   "source": [
    "import numpy as np"
   ]
  },
  {
   "cell_type": "code",
   "execution_count": 3,
   "metadata": {},
   "outputs": [],
   "source": [
    "class Nearest_Neighbot:\n",
    "    def __init__(self):\n",
    "        pass\n",
    "    \n",
    "    def train(self,X,Y):         #Memorzie this data\n",
    "        self.xtr=X\n",
    "        self.ytr=Y\n",
    "    \n",
    "    def preict(self,X):\n",
    "        \n",
    "        num_test=X.sahpe[0]\n",
    "        ypred=np.zeros(num_test,dtype=self.ytr.dtype)\n",
    "        \n",
    "        for i in range(num_test):\n",
    "            \n",
    "            distance=np.sqrt(np.sum(np.abs(self.xtr-X[i,:],axis=1)**2))\n",
    "            min_index=np.argmin(distance)\n",
    "            ypred[i]=self.ytr[min_index]\n",
    "            \n",
    "        return ypred\n"
   ]
  },
  {
   "cell_type": "code",
   "execution_count": null,
   "metadata": {},
   "outputs": [],
   "source": []
  }
 ],
 "metadata": {
  "kernelspec": {
   "display_name": "Python 3",
   "language": "python",
   "name": "python3"
  },
  "language_info": {
   "codemirror_mode": {
    "name": "ipython",
    "version": 3
   },
   "file_extension": ".py",
   "mimetype": "text/x-python",
   "name": "python",
   "nbconvert_exporter": "python",
   "pygments_lexer": "ipython3",
   "version": "3.6.8"
  }
 },
 "nbformat": 4,
 "nbformat_minor": 2
}
